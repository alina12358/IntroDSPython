{
 "cells": [
  {
   "cell_type": "markdown",
   "metadata": {},
   "source": [
    "#  Capítulo 1 - Introducción a Python \n",
    "\n",
    "<img src=\"./figures/python_logo.png\" width='400'/>\n",
    "\n",
    "***\n",
    "El propósito de este tutorial es aprender sobre el uso de `Python` en el manejo de bases de datos. Primero veremos una introducción al lenguaje, la cual no tiene como objetivo que aprendan a programar en `Python`, para esto se necesita mucho más tiempo del que tenemos en este tutorial, si no que adquieran conocimientos rudimentarios acerca de las herramientas, librerías y tipos de datos básicos, y con este conocimiento sean capaces de comprender las instrucciones que se utilizarán en los ejemplos de uso con bases de datos. En la segunda parte del tutorial veremos las herramientas necesarias para manejar bases de datos, principalmente la librería __Pandas__ . En cada capítulo del tutorial habrá una sección llamada __Recursos__ donde se podrá aprender más sobre `Python` y las librerías utilizadas, así como referencias de las bases de datos. Además algunos conceptos presentados tienen un enlace para quien desee profundizar en ellos.\n",
    "\n",
    "***\n",
    "\n",
    "## Historia\n",
    "\n",
    "`Python` fue desarrollado por Guido van Rossum a finales de los ochentas y principios de los noveintas del pasado siglo en el National Research Institute for Mathematics and Computer Science en los países bajos. Este lenguaje se deriva de muchos otros como son ABC, Modula-3, C, C++, Algol-68, SmallTalk, Unix shell y otros  [\"lenguajes de scripts\" (scripting languages)]( https://es.wikipedia.org/wiki/Script).\n",
    "El nombre del lenguaje proviene de la afición de su creador por los humoristas británicos Monty Python.\n",
    "\n",
    "`Python` está bajo derechos de autor y su código fuente está disponible bajo la [GNU General Public License (GPL)](https://www.gnu.org/licenses/gpl-3.0.en.html).\n",
    "\n",
    "Python es mantenido por un equipo de desarrollo del mecionado instituto. Guido Van Rossum es el principal autor de `Python`, y su continuo rol central en decidir la dirección de `Python` es reconocido, refiriéndose a él como Benevolente Dictador Vitalicio (en inglés: Benevolent Dictator for Life, BDFL); sin embargo el 12 de julio de 2018 declinó de dicha situación. Al margen de esta dirección, una de las características principales de `Python` es la facilidad de usarlo y contribuir a él, lo que provoca que esté en constante desarrollo.\n",
    "\n",
    "Algunas de las características del lenguaje son:\n",
    "- __Fácil de leer__: su filosofía hace hincapié en la legibilidad de su código\n",
    "- __Fácil de aprender__: sus pocas palabras claves, estructura simple y sintaxis claramente definidas lo hacen muy fácil de aprender\n",
    "- __Código libre__: es totalmente libre, cualquiera puede usarlo y contribuir a él.\n",
    "- __Modular__: se compone de librerías *(colección de programas o funciones que tienen un determinado propósito)*; no es necesario instalarlas todas\n",
    "- Soporta métodos de programación estructurada y funcional y es orientado a objetos.\n",
    "- Contiene tipos de datos dinámicos de alto nivel.\n",
    "- Puede ser fácilmente integrado con C, C++, COM, ActiveX, CORBA, y Java.\n",
    "\n",
    "***\n",
    "## Instalación\n",
    "Ver el manual [Instalación de Anaconda](https://github.com/alina12358/IntroDSPython/blob/main/Anaconda%20-%20Installation%20guide%20-%20Oct2018.pdf)\n",
    "***\n",
    "## Librerías\n",
    "Hay un gran número de librerías como __NumPy__, __SciPy__, __Pandas__, __Matplotlib__ y __Seaborn__ entre otras que nos serán de mucha utilidad. Al tener una estructura modular se desarrollan todo el tiempo librerías nuevas y más específicas, sobre la base de las más básicas pero bien desarrolladas.\n",
    "\n",
    "<img src=\"./figures/maxresdefault.jpg\" alt=\"Python Scientific Ecosystem\" width=\"700\"/>\n",
    "\n",
    "***\n",
    "## Sobre los tutoriales\n",
    "\n",
    "En estos tutoriales se usará la interfaz web `Jupyter Notebook`, (en el __capítulo 2__ veremos una introducción breve a esta herramienta). En el __capítulo 3__ aprenderemos los comandos básicos y los tipos básicos de datos, en el __capítulo 4__ veremos una rápida introducción a librerías básicas como __Math__, __Numpy__ y __Matplotlib__, en el __capítulo 5__ aprenderemos sobre el manejo de bases de datos en __Pandas__, finalmente en el __capítulo 6__ esto será ampliado y utilizaremos la librería __Matplotlib__ para obtener algunas visualizaciones. \n",
    "\n",
    "## ¡Ayuda!\n",
    "En los links listados en __Recursos__ y en los incluidos en el texto  a lo largo de los tutoriales hay mucha información extra, pero como todo lo demás, cuando tengas dudas __¡googlealo!__. Encontrarás muchas páginas con tutoriales, videos, e información. Una de las mejores páginas de preguntas y respuestas es [Stackoverflow](https://stackoverflow.com/). Un sitio donde se hacen preguntas, que personas con experiencia en el tema pueden contestar. Si se te ocurre una duda en programación, lo más probable es que alguien ya la haya preguntado en __Stackoverflow__."
   ]
  },
  {
   "cell_type": "markdown",
   "metadata": {},
   "source": [
    "***\n",
    "## Recursos\n",
    "Página oficial: [https://www.python.org/](https://www.python.org/)\n",
    "\n",
    "Historia y características https://es.wikipedia.org/wiki/Python\n",
    "\n",
    "Tutorial de Python: https://www.tutorialspoint.com/python/index.htm\n",
    "\n",
    "Stackoverflow: https://stackoverflow.com/\n"
   ]
  },
  {
   "cell_type": "code",
   "execution_count": null,
   "metadata": {},
   "outputs": [],
   "source": []
  }
 ],
 "metadata": {
  "kernelspec": {
   "display_name": "Python 3",
   "language": "python",
   "name": "python3"
  },
  "language_info": {
   "codemirror_mode": {
    "name": "ipython",
    "version": 3
   },
   "file_extension": ".py",
   "mimetype": "text/x-python",
   "name": "python",
   "nbconvert_exporter": "python",
   "pygments_lexer": "ipython3",
   "version": "3.8.5"
  }
 },
 "nbformat": 4,
 "nbformat_minor": 4
}
