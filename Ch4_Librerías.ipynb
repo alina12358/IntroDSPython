{
 "cells": [
  {
   "cell_type": "markdown",
   "metadata": {},
   "source": [
    "# Capítulo 4 - Librerías de Python\n",
    "\n",
    "Este capítulo está divido en tres partes ya que cubriremos tres librerías, aunque aparecerán algunas en el camino. Estas tres serán __Math__, __Numpy__ y __Matplotlib__. \n",
    "\n",
    "*** \n",
    "<img src='./figures/Top+5+Libraries+for+Data+Science+in+Python.jpg' width='300'>\n",
    "\n"
   ]
  },
  {
   "cell_type": "markdown",
   "metadata": {},
   "source": [
    "## Math   \n",
    "    \n",
    "__Math__ es la librería que proporciona las funciones matemáticas básicas en `Python`. Funciones como exponenciales, logaritmos y constantes matemáticas están incluidas en este módulo."
   ]
  },
  {
   "cell_type": "code",
   "execution_count": null,
   "metadata": {},
   "outputs": [],
   "source": [
    "import math \n",
    "x = 4\n",
    "print(math.sqrt(x),'\\n')\n",
    "y = math.exp(x)  # Calcula la exponencial de x\n",
    "x_2 = math.log(y) # Calcula el logaritmo natural de y, por lo tanto x_2 debe ser igual a x.\n",
    "print(x_2 == x,'\\n') # Arroja el valor booleano True cuando la condición es verdadera. Note el doble signo de igual = \n",
    "\n",
    "print(math.factorial(x),'\\n') # Calcula el factorial de x, es decir, si x es un número entero devuelve el producto 1*2*...*x\n",
    "\n",
    "try: print(math.gcd(x,y),'\\n')\n",
    "except: print('Ambos valores deben ser enteros','\\n') # Obtuvimos un error porque uno de los números que pasamos \n",
    "                                                      # a la función máximo común divisor no es entero. Intentemos de nuevo!"
   ]
  },
  {
   "cell_type": "markdown",
   "metadata": {},
   "source": [
    "__Inténtelo usted__ Una de las variables x o y no es un número entero ¿sabes cuál es? La función floor da como resultado la parte entera de un número. ¿Puedes descomentar y completar el código de abajo para que dé como resultado el máximo común divisor buscado?"
   ]
  },
  {
   "cell_type": "code",
   "execution_count": null,
   "metadata": {},
   "outputs": [],
   "source": [
    "# y = math._____(_)\n",
    "# z = math.gcd(x,y)\n",
    "\n",
    "# if z == 2:\n",
    "#     print('¡Felicidades!')"
   ]
  },
  {
   "cell_type": "markdown",
   "metadata": {},
   "source": [
    "Algunas funciones de la librería math tienen aplicación geométrica, como son las funciones trigonométricas o de distancia.  "
   ]
  },
  {
   "cell_type": "code",
   "execution_count": null,
   "metadata": {},
   "outputs": [],
   "source": [
    "pi = math.pi # Constante pi = 3.141592....\n",
    "\n",
    "print(math.sin(pi),'\\n') # Puede resultar sorprendente que el seno de pi no nos de cero, esto se debe a la precisión de \n",
    "                         # punto flotante, ya que al no ser posible que la variable sea exactamente pi, el seno no es \n",
    "                         # exactamente cero, aunque está lo más cerca posible, para obtener cero podemos aproximar este \n",
    "                         # valor con la función round\n",
    "            \n",
    "print(round(math.sin(pi)),'\\n')       \n",
    "print(math.cos(pi),'\\n')        \n",
    "        \n",
    "print(round(math.tan(pi)),'\\n')   \n",
    "\n",
    "p = (1,2) \n",
    "q = (5,7)\n",
    "math.dist(p, q) # Función distancia entre los pares ordenados p y q (definidos como tuplas)"
   ]
  },
  {
   "cell_type": "markdown",
   "metadata": {},
   "source": [
    "Estas son todas las funciones de este módulo que presentaremos por ahora pero hay una gran variedad de funciones en __Math__, pueden ser consultadas en los recursos. "
   ]
  },
  {
   "cell_type": "markdown",
   "metadata": {},
   "source": [
    "## Numpy"
   ]
  },
  {
   "cell_type": "markdown",
   "metadata": {},
   "source": [
    "NumPy (Numerical Python) es una biblioteca de código abierto de Python que se utiliza en casi todos los campos de la ciencia y la ingeniería. Es el estándar universal para trabajar con datos numéricos en Python, y está en el centro de los ecosistemas científicos de Python y PyData. \n",
    "\n",
    "La biblioteca NumPy contiene estructuras de datos de matrices y arrays multidimensionales (encontrarás más información sobre esto en secciones posteriores). Proporciona ndarray, un objeto array homogéneo de n dimensiones, con métodos para operar eficientemente sobre él. NumPy puede utilizarse para realizar una amplia variedad de operaciones matemáticas sobre arrays. Añade a Python potentes estructuras de datos que garantizan cálculos eficientes con arrays y matrices y proporciona una enorme biblioteca de funciones matemáticas de alto nivel que operan sobre estos arrays y matrices.\n",
    "\n",
    "En la próxima celda vemos como importar numpy, en el caso que esté instalado, y cómo se instala en caso contrario. "
   ]
  },
  {
   "cell_type": "code",
   "execution_count": null,
   "metadata": {},
   "outputs": [],
   "source": [
    "try: \n",
    "    import numpy as np\n",
    "except: \n",
    "    import sys\n",
    "    !conda install --yes --prefix {sys.prefix} numpy\n",
    "    import numpy as np # A partir de ahora se usará np como el apodo de Numpy       \n",
    "    \n",
    "# import warnings\n",
    "# warnings.simplefilter('ignore') # filter some warning messages"
   ]
  },
  {
   "cell_type": "markdown",
   "metadata": {},
   "source": [
    "Definiendo un elemento de __Numpy__"
   ]
  },
  {
   "cell_type": "code",
   "execution_count": null,
   "metadata": {},
   "outputs": [],
   "source": [
    "a = np.array([1,2,3,4,5]) # Observar que se define explícitamente a través de una lista\n",
    "a"
   ]
  },
  {
   "cell_type": "markdown",
   "metadata": {},
   "source": [
    "Esto luce muy parecido a una lista, entonces, ¿cuál es la diferencia y por qué usar Numpy?\n",
    "\n",
    "Un arreglo o array es una red (grid) de valores que son todos del mismo tipo. Mientras que una lista de Python puede contener diferentes tipos de datos dentro de una misma lista, todos los elementos de un array de NumPy deben ser homogéneos. En ellos se pueden hacer muchas operaciones matemáticas, ya implementadas en la librería que no existen, o serían mucho más engorrosas de programar, en las listas.\n",
    "\n",
    "NumPy ofrece una enorme gama de formas rápidas y eficientes de crear arrays y manipular datos numéricos dentro de ellos. Además los arrays de NumPy son más rápidos y compactos que las listas de Python y un array consume menos memoria y es cómodo de usar. \n",
    "\n",
    "Definamos algunos conceptos básicos:\n",
    "__Indeces (Index)__: Un array puede estar indexado por una tupla de enteros no negativos, por booleanos, por otro array o por enteros. \n",
    "\n",
    "__Rango (Rank)__: El rango de la matriz es el número de dimensiones. \n",
    "\n",
    "__Forma (Shape)__ Es una tupla de enteros que da el tamaño del array en cada dimensión."
   ]
  },
  {
   "cell_type": "markdown",
   "metadata": {},
   "source": [
    "Veamos algunas formas de definir arrays y algunas funciones de __Numpy__."
   ]
  },
  {
   "cell_type": "markdown",
   "metadata": {},
   "source": [
    "### Creando arrays"
   ]
  },
  {
   "cell_type": "code",
   "execution_count": null,
   "metadata": {},
   "outputs": [],
   "source": [
    "arr = np.arange(6) # El resultado aquí es el mismo de la línea anterior, pero el código es más corto.\n",
    "print(arr,'\\n')\n",
    "\n",
    "a = np.zeros(3) # Crea un array de ceros con la dimensión dada\n",
    "print(a,'\\n')\n",
    "\n",
    "a = np.ones(3)  # Crea un array de unos con la dimensión dada\n",
    "print(a,'\\n')\n",
    "\n",
    "a = np.ones(2, dtype=np.int64) # Lo mismo, pero con los datos de tipo enteros\n",
    "print(a,'\\n')\n",
    "\n",
    "a = np.linspace(0, 10, num=5) # Divide el intervalo dado en el número de valores del parámetro num\n",
    "print(a,'\\n')\n",
    "\n",
    "matrix = np.array([[4, 1, 3, 2], [11, 12, 10, 11], [8, 7, 5, 6]]) # Arrays de dos o más dimensiones pueden ser definidos mediante listas anidadas \n",
    "print(matrix,'\\n')\n",
    "\n",
    "print(arr[1],'\\n') # Igual que en las listas, se puede accesar a los elementos de los arrays usando [].\n",
    "print(matrix[1][2],'\\n') # Si hacemos lo mismo con una matriz, el resultado será un vector."
   ]
  },
  {
   "cell_type": "markdown",
   "metadata": {},
   "source": [
    "### Añadir, eliminar y ordenar los elementos"
   ]
  },
  {
   "cell_type": "code",
   "execution_count": null,
   "metadata": {},
   "outputs": [],
   "source": [
    "arr = np.array([3,1,5,2,4])\n",
    "\n",
    "print(np.sort(arr),'\\n')\n",
    "\n",
    "print(np.sort(matrix,axis=1),'\\n') # Cuando el arreglo es de dos dimensiones o más se utiliza la palabra\n",
    "                                   # clave axis para indicar por cuál eje se ordena (por defecto el último \n",
    "print(np.sort(matrix,axis=0),'\\n') # Observa la diferencia entre ambas formas de ordenar\n",
    "\n",
    "a = np.array([1, 2, 3, 4])\n",
    "b = np.array([5, 6, 7, 8])\n",
    "\n",
    "print(np.concatenate((a, b)),'\\n') # De esta forma se pueden \"pegar\" dos arrays de una dimensión\n",
    "\n",
    "a = np.array([[1, 2], [3, 4]])\n",
    "b = np.array([[5, 6]])\n",
    "\n",
    "print(np.concatenate((a, b),axis=0),'\\n') # En este caso, por el otro eje no es posible concatenar debido a \n",
    "                                          # las dimensiones del arreglo.\n",
    "    \n",
    "# Para remover elementos solamente se puede hacer un nuevo array con los elementos que se quieren conservar \n",
    "print(arr[:-1],'\\n') # (Elimina el último elemento)\n",
    "\n",
    "# o usar la función delete\n",
    "print(np.delete(arr, 2)) # (Elimina el elemento con índice 2 del array)"
   ]
  },
  {
   "cell_type": "markdown",
   "metadata": {},
   "source": [
    "### Shape, reshape & size"
   ]
  },
  {
   "cell_type": "code",
   "execution_count": null,
   "metadata": {},
   "outputs": [],
   "source": [
    "matrix = np.array([[[0, 1, 2, 3],[4, 5, 6, 7]],[[0, 1, 2, 3],[4, 5, 6, 7]],[[0 ,1 ,2, 3],[4, 5, 6, 7]]])\n",
    "\n",
    "print(matrix,'\\n')\n",
    "\n",
    "print('array_dim =', matrix.ndim,'\\n')  # Es la dimensión del arreglo\n",
    "\n",
    "print('array_elem =', matrix.size,'\\n')  # Es la cantidad de elementos del arreglo\n",
    "\n",
    "print('array_elem =', matrix.shape,'\\n')  # Es la forma del arreglo\n",
    "\n",
    "# Para cambiar la forma se usa la función reshape\n",
    "\n",
    "arr = np.arange(12)\n",
    "\n",
    "print(arr,'\\n')\n",
    "\n",
    "print('4x3 array:','\\n', arr.reshape(4,3),'\\n') # Observa que reshape tienen como argumentos la forma del nuevo arreglo, \n",
    "                             # y el producto de esto debe ser la cantidad de elementos del arreglo \n",
    "    \n",
    "print('3x4 array:','\\n', arr.reshape(3,4),'\\n')\n",
    "\n",
    "print('2x6 array:','\\n', arr.reshape(2,6),'\\n')\n",
    "\n",
    "# Una forma particular de reordenar una matrix es transponerla\n",
    "print('6x2 array:','\\n', arr.reshape(2,6).transpose(),'\\n')"
   ]
  },
  {
   "cell_type": "markdown",
   "metadata": {},
   "source": [
    "### Indexing & slicing"
   ]
  },
  {
   "cell_type": "code",
   "execution_count": null,
   "metadata": {},
   "outputs": [],
   "source": [
    "arr = np.array([1,2,3,4,5,6])\n",
    "\n",
    "# Los siguientes son ejemplos de cómo se toman uno o más elementos de un array ¡intenta ver cómo funcionan! \n",
    "\n",
    "print(arr[2],'\\n')\n",
    "\n",
    "print(arr[-1],'\\n')\n",
    "\n",
    "print(arr[1:3],'\\n')\n",
    "\n",
    "print(arr[:2],'\\n')\n",
    "\n",
    "# También se puede tomar un subconjunto de elementos con una condición\n",
    "\n",
    "print(arr[arr < 5],'\\n') \n",
    "\n",
    "five_up = (arr >= 5)\n",
    "print(arr[five_up],'\\n')\n",
    "\n",
    "divisible_by_2 = arr[arr%2==0]\n",
    "print(divisible_by_2,'\\n')\n",
    "\n",
    "print(arr[(arr > 2) & (arr < 5)],'\\n') #Las condiciones con \"and\"\n",
    "\n",
    "five_up = (arr > 5) | (arr == 5)  # Condición con \"or\"\n",
    "print(five_up,'\\n')\n",
    "print(arr[five_up],'\\n')"
   ]
  },
  {
   "cell_type": "markdown",
   "metadata": {},
   "source": [
    "### Operaciones básicas\n",
    "\n",
    "Una de las ventajas de los arreglos de numpy sobre las listas, es que se pueden hacer las operaciones matemáticas usuales, veamos algunos ejemplos."
   ]
  },
  {
   "cell_type": "code",
   "execution_count": null,
   "metadata": {},
   "outputs": [],
   "source": [
    "a = np.array([1,2,3])\n",
    "b = np.array([3,2,1])\n",
    "\n",
    "print(a+b,'\\n') # Observa que a y b tienen la misma longitud, intenta cambiar la longitud de uno de ellos \n",
    "\n",
    "print(a-b,'\\n') \n",
    "\n",
    "print(a*b,'\\n')\n",
    "\n",
    "print(a/b,'\\n')\n",
    "\n",
    "# Esta es la multiplicación y división componente a componente. Para la multiplicación matricial se usará la función \"dot\"\n",
    "\n",
    "print(np.dot(a,b),'\\n') # En este caso coincide con el producto escalar. Veamos qué sucede con una matriz\n",
    "\n",
    "m1 = np.array([[1,2],[1,1]])\n",
    "m2 = np.array([[3,1],[1,0]])\n",
    "\n",
    "print(np.dot(m1,m2),'\\n') # En esta ocasión obtenemos el producto matricial\n",
    "\n",
    "# Si multiplicamos por un número simple una matriz o un vector, se multiplicarán todas las entradas del vector por ese número\n",
    "print(5 * np.array([[1,1],[1,0]]))"
   ]
  },
  {
   "cell_type": "markdown",
   "metadata": {},
   "source": [
    "### Otras funciones útiles"
   ]
  },
  {
   "cell_type": "code",
   "execution_count": null,
   "metadata": {},
   "outputs": [],
   "source": [
    "arr = np.array([1,2,3,4,5,6])\n",
    "\n",
    "print('Mínimo: ', arr.min(),'\\n')\n",
    "print('Máximo: ', arr.max(),'\\n')\n",
    "print('Suma de los elementos: ', arr.sum(),'\\n')\n",
    "\n",
    "# Si queremos sumar una matriz sólo por columnas o filas usamos la palabra clave \"axis\"\n",
    "m = np.array([[1,2],[3,5]])\n",
    "\n",
    "print('Suma por columnas: ', m.sum(axis=0),'\\n')\n",
    "print('Suma por filas: ', m.sum(axis=1),'\\n')\n",
    "\n",
    "# De igual forma \n",
    "print('Máximo por columnas: ', m.max(axis=0),'\\n')"
   ]
  },
  {
   "cell_type": "markdown",
   "metadata": {},
   "source": [
    " __NumPy__ tiene una gran cantidad de funciones matemáticas, algunas coinciden con las funciones de __Math__ y otras son específicas de la librería. Veremos sólo las que utilicemos a medida que lo hagamos, pero se puede consultar una lista en la sección de __Recursos__  "
   ]
  },
  {
   "cell_type": "markdown",
   "metadata": {},
   "source": [
    "## Visualización: Matplotlib\n",
    "    \n",
    "Una de las herramientas fundamentales en Ciencia de Datos es la visualización, que permite comunicar de una manera clara y concisa resultados que de otra manera serían muy complejos de transmitir. La principal librería de Python para esto es __Matplotlib__. Un gráfico generado en __Matplotlib__ es ve, de forma general, como en la figura de abajo, la cual también proporciona una guía sobre los nombres de las distintas partes del gráfico.\n",
    "<img src='./figures/Anatomy_of_plot.png'>"
   ]
  },
  {
   "cell_type": "markdown",
   "metadata": {},
   "source": [
    "### Importar __Matplotlib__ y crear un gráfico simple\n",
    "\n",
    "Hay esencialmente dos maneras de utilizar Matplotlib:\n",
    "\n",
    "- Confiar en pyplot para crear y gestionar automáticamente las Figuras y los Ejes, y utilizar las funciones de pyplot para el trazado.\n",
    "\n",
    "- Crear explícitamente Figuras y Ejes, y llamar a métodos sobre ellos (el \"estilo orientado a objetos (OO)\").\n",
    "\n",
    "A continuación presentaremos las dos formas, que utilizaremos indistintamente según convenga."
   ]
  },
  {
   "cell_type": "code",
   "execution_count": null,
   "metadata": {},
   "outputs": [],
   "source": [
    "import matplotlib as mpl\n",
    "import matplotlib.pyplot as plt \n",
    "\n",
    "x = np.linspace(0, 2, 100) \n",
    "\n",
    "plt.figure(figsize=(10,5)) # Aunque esta línea no es estrictamente necesaria es muy útil para establecer parámetros de la figura.\n",
    "plt.plot(x, x, label='linear')  # label establece el nombre que aparecerá en la leyenda\n",
    "plt.plot(x, x**2, label='quadratic')  \n",
    "plt.plot(x, x**3, label='cubic')\n",
    "plt.xlabel('x label')  # xlabel y ylabel dan nombre a los ejes\n",
    "plt.ylabel('y label')\n",
    "plt.title(\"Simple Plot\") # Título del gráfico\n",
    "plt.legend(); # Esta línea hace que la leyenda aparezca en el gráfico con los nombres establecidos con \"label\""
   ]
  },
  {
   "cell_type": "code",
   "execution_count": null,
   "metadata": {},
   "outputs": [],
   "source": [
    "x = np.linspace(0, 2, 100)  # Data.\n",
    "\n",
    "# Todas las funciones a continuación tienen los mismos objetivos que las que reemplazan arriba, pero observa \n",
    "# que son ligeramente diferentes.\n",
    "\n",
    "fig, ax = plt.subplots(figsize=(10, 5))\n",
    "ax.plot(x, x, label='linear')  \n",
    "ax.plot(x, x**2, label='quadratic')  \n",
    "ax.plot(x, x**3, label='cubic')  \n",
    "ax.set_xlabel('x label')  \n",
    "ax.set_ylabel('y label')  \n",
    "ax.set_title(\"Simple Plot\")  \n",
    "ax.legend();  "
   ]
  },
  {
   "cell_type": "markdown",
   "metadata": {},
   "source": [
    "### Tipos de gráficos\n",
    "\n",
    "En la celda anterior vimos el tipo más simple de gráfico y el que se genera por defecto, un gráfico de línea (linear plot). A continuación veremos los siguientes más usados, y esto será ampliado en el tutorial de visualización de datos. \n",
    "\n",
    "##### Diagrama de dispersión (Scatter plot) \n",
    "\n",
    "Un diagrama de dispersión (también conocido como gráfico de dispersión) utiliza puntos (o versiones de puntos) para representar los valores de dos variables numéricas diferentes. La posición de cada punto en el eje horizontal y vertical indica los valores de un punto de datos individual. Los gráficos de dispersión se utilizan para observar las relaciones entre las variables."
   ]
  },
  {
   "cell_type": "code",
   "execution_count": null,
   "metadata": {},
   "outputs": [],
   "source": [
    "x = np.random.rand(100)\n",
    "y = np.random.rand(len(x)) # Numpy también puede generar números aleatorios! En este caso usaremos la función \n",
    "                           # len para que el tamaño de ambas variables coincida\n",
    "\n",
    "fig, ax = plt.subplots(figsize=(10, 5))\n",
    "ax.scatter(x, y, s=50, facecolor='C0', edgecolor='k'); # Observe el uso de los parámetros de la función para\n",
    "                                                       # cambiar el tamaño, color y forma de los indicadores,\n",
    "                                                       # esto se ampliará más tarde. \n",
    "        \n",
    "# Otra forma de hacer estos plots es la siguiente \n",
    "\n",
    "fig, ax = plt.subplots(figsize=(10, 5))\n",
    "ax.plot(x, 'o', label='data1')\n",
    "ax.plot(y, 'd', label='data2')\n",
    "ax.legend();"
   ]
  },
  {
   "cell_type": "markdown",
   "metadata": {},
   "source": [
    "#### Datos de tiempo y categóricos\n",
    "\n",
    "Una gran ventaja de `Python` es su forma de lidiar con datos temporales, hay varias librerías que permiten esto, entre ellas __NumPy__. Y graficar correctamente este tipo de datos es muy importante. Además las variables categóricas, necesitan también formas específicas para su visualización. Veamos las más simples.  "
   ]
  },
  {
   "cell_type": "code",
   "execution_count": null,
   "metadata": {},
   "outputs": [],
   "source": [
    "fig, ax = plt.subplots(figsize=(10, 5))\n",
    "dates = np.arange(np.datetime64('2021-11-15'), np.datetime64('2021-12-25'),\n",
    "                  np.timedelta64(1, 'h')) # Generamos datos de fechas con inicio, final e intervalos definidos.\n",
    "data = np.cumsum(np.random.randn(len(dates))) # \"cumsum\" da un vector con la suma acumulada del vector\n",
    "ax.plot(dates, data)\n",
    "cdf = mpl.dates.ConciseDateFormatter(ax.xaxis.get_major_locator())  # Formato específico para fechas\n",
    "ax.xaxis.set_major_formatter(cdf);"
   ]
  },
  {
   "cell_type": "code",
   "execution_count": null,
   "metadata": {},
   "outputs": [],
   "source": [
    "fig, ax = plt.subplots(figsize=(10, 5))\n",
    "categories = ['calabaza', 'pepino', 'zanahoria', 'lechuga'] # Categorías a graficar\n",
    "\n",
    "ax.bar(categories, np.random.rand(len(categories)));  # Los números aleatorios nos darán la altura de cada barra"
   ]
  },
  {
   "cell_type": "markdown",
   "metadata": {},
   "source": [
    "*** \n",
    "\n",
    "## Recursos\n",
    "\n",
    "### __Más sobre las librerías:__\n",
    "\n",
    "__Math__ https://docs.python.org/3/library/math.html#module-math\n",
    "\n",
    "__NumPy__\n",
    "\n",
    "- [Sitio oficial](https://numpy.org/)\n",
    "\n",
    "- [Tutorial](https://numpy.org/doc/stable/user/absolute_beginners.html)\n",
    "\n",
    "- [Funciones matemáticas](https://numpy.org/doc/stable/reference/routines.math.html)\n",
    "\n",
    "__Matplotlib__\n",
    "\n",
    "- [Sitio](https://matplotlib.org/stable/tutorials/introductory/usage.html#sphx-glr-tutorials-introductory-usage-py)\n",
    "- [Tutorial interactivo](https://www.datacamp.com/community/tutorials/matplotlib-tutorial-python?utm_source=adwords_ppc&utm_medium=cpc&utm_campaignid=1455363063&utm_adgroupid=65083631748&utm_device=c&utm_keyword=&utm_matchtype=&utm_network=g&utm_adpostion=&utm_creative=278443377095&utm_targetid=aud-299261629614:dsa-473406587955&utm_loc_interest_ms=&utm_loc_physical_ms=1010056&gclid=Cj0KCQiArt6PBhCoARIsAMF5wai1EiSvk-jFOZMbTpwTQ19zButG65AkJT5Vs9lyFeAb_lIcihzSiKMaAu0GEALw_wcB)\n",
    "\n"
   ]
  },
  {
   "cell_type": "code",
   "execution_count": null,
   "metadata": {},
   "outputs": [],
   "source": []
  }
 ],
 "metadata": {
  "kernelspec": {
   "display_name": "Python 3",
   "language": "python",
   "name": "python3"
  },
  "language_info": {
   "codemirror_mode": {
    "name": "ipython",
    "version": 3
   },
   "file_extension": ".py",
   "mimetype": "text/x-python",
   "name": "python",
   "nbconvert_exporter": "python",
   "pygments_lexer": "ipython3",
   "version": "3.8.5"
  }
 },
 "nbformat": 4,
 "nbformat_minor": 4
}
