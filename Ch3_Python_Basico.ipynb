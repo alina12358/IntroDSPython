{
 "cells": [
  {
   "cell_type": "markdown",
   "metadata": {},
   "source": [
    "# Chapter 3: Elementos básicos de Python \n",
    "\n",
    "En este capítulo aprenderemos las instrucciones básicas, los tipos de datos y estructuras y la sintaxis de `Python`. Si usted está familiarizado con `Python` puede ir directamente al __capítulo 4__.\n",
    "\n",
    "Este y los siguientes capítulos son interactivos, es decir, será necesario ejecutar los códigos para ver los resultados. Hay algunas instrucciones básicas antes de cada fragmento de código, y el resto de la información necesaria está como comentarios dentro de las celdas de código. Además, habrán algunos problemas opcionales, en los cuales usualmente se dará una parte de código incompleto, o un código funcional que deberá ser modificado. Aunque estos ejercicios son opcionales, recomendamos ampliamente su resolución para obtener las habilidades básicas que se tratan en este curso."
   ]
  },
  {
   "cell_type": "markdown",
   "metadata": {},
   "source": [
    "## Módulos\n",
    "Como se mencionó, `Python` es __modular__: además de las funciones básicas tiene librerías *(colecciones de programas o funciones con un propósito específico)*. Estas necesitan ser instaladas, pero sólo las que se vayan a utilizar, y de las que están instaladas no es necesario cargar todas cuando se utiliza el programa, lo cual contribuye a que `Python` sea ligero y pueda correr en muchos ordenadores. \n",
    "\n",
    "Para este tutorial no necesitará instalar ninguna librería, a no ser que lo ejecuten en su computadora persona. En ese caso las instrucciones se dejarán en las celdas donde sean requeridas. \n",
    "\n",
    "__Importar__ librerías sí es usualmente requerido y por lo general estará al principio del código. A cada librería se le puede dar un \"apodo\" para simplificar y acortar el código, aunque puede ser cualquier nombre, en general se utilizan apodos estándar para cada librería, en orden de hacer el código más legible. Además se puede también importar sólo una función determinada de una librería. La celda que importa las librerías debe ser ejecutada antes de las celdas que usen las funciones importadas, o se generará un error."
   ]
  },
  {
   "cell_type": "code",
   "execution_count": null,
   "metadata": {},
   "outputs": [],
   "source": [
    "# importar módulos/librerías\n",
    "import numpy as np  # usando un apodo\n",
    "import math  # usando el nombre de la librería\n",
    "\n",
    "var = [1,2,3,4,5,np.nan] # nan son las siglas de Not a number, es un valor vacío\n",
    "\n",
    "# La función print es una función nativa de Python que imprime los valores que\n",
    "# se le pasan como argumentos a la consola puede aceptar varios valores separados por coma.\n",
    "\n",
    "print('Mean value = ', np.mean(var)) \n",
    "print('Mean value, ignoring nan  = ', np.nanmean(var)) \n",
    "\n",
    "# En el siguiente ejemplo, en lugar de pasar dos variables a la función print, \n",
    "# concatenamos dos cadenas (con el signo +), con el valor numérico de pi previamente transformado a cadena.\n",
    "print('At some point, we will need the value of pi='+str(math.pi))"
   ]
  },
  {
   "cell_type": "markdown",
   "metadata": {},
   "source": [
    "## Tipos de datos, colecciones y estructuras\n",
    "\n",
    "Como muchos lenguajes, `Python` incluye tipos básicos de datos como enteros (integer), flotantes (float), cadenas (strings), y booleanos (boolean).  \n",
    "\n",
    "`Python` además tiene algunos tipos de colecciones de datos. hablaremos de tres de ellas:¶\n",
    "\n",
    "- __List__ - ordenable, mutable, se puede duplicar o hacer copias \n",
    "\n",
    "- __Tuple__ - ordenable, inmutable, se puede duplicar o hacer copias\n",
    "\n",
    "- __Dictionary__ - no ordenable, mutable, no se puede duplicar o hacer copias\n",
    "\n",
    "Todas las colecciones pueden contener cualquier tipo de datos, incluyendo otras colecciones.\n",
    "\n",
    "__Inténtelo usted:__ En las próximas celdas definiremos algunas variables de cada tipo de datos y de colecciones, se harán copias, se modificarán y se accederá a sus elementos. Prueba a cambiar el código como se muestra en algunos comentarios.\n"
   ]
  },
  {
   "cell_type": "markdown",
   "metadata": {},
   "source": [
    "### Enteros, flotantes y cadenas"
   ]
  },
  {
   "cell_type": "code",
   "execution_count": null,
   "metadata": {},
   "outputs": [],
   "source": [
    "entero = 5 # esto es una variable con un número entero\n",
    "flotante_1 = 3.5 # estas son variables con un flotante, racional y finito en el primer caso e irracional y trascendente en el segundo\n",
    "flotante_2 = math.pi \n",
    "cadena_1 = 'esto es una cadena'\n",
    "cadena_2 =  ' y esto es otra'\n",
    "# Operaciones:\n",
    "# Entre las variables de tipo float y enteras se pueden llevar a cabo las operaciones matemáticas usuales\n",
    "print(flotante_1 + entero*flotante_2)\n",
    "# Sin embargo entre cadenas las operaciones difieren \n",
    "print(cadena_1 + cadena_2)\n",
    "#por lo tanto no se puede sumar una cadena con un flotante o entero\n",
    "try: # esta función se utiliza para que el código siga corriendo en caso de haber un error\n",
    "    print(cadena_1 + flotante_2)\n",
    "except:\n",
    "    print(\"Oops! No se puede sumar un número con una cadena\")\n",
    "# No obstante, sí se puede multiplicar una cadena por un entero, y Python, lo entiende como sumar muchas veces la misma cadena\n",
    "print(entero*(cadena_1 + ' '))"
   ]
  },
  {
   "cell_type": "markdown",
   "metadata": {},
   "source": [
    "### Lists"
   ]
  },
  {
   "cell_type": "code",
   "execution_count": null,
   "metadata": {},
   "outputs": [],
   "source": [
    "mylist = [1, 'wind', math.pi]  # es necesario el uso de corchetes [ ] para definir las listas, \n",
    "                               # observa que pueden contener elementos de diferentes tipos\n",
    "print(mylist, '\\n') # '\\n' añade una línea debajo del mensaje que se imprime\n",
    "\n",
    "# accesando a los elementos \n",
    "print(mylist[0], '\\n') # OJO: los índices en Python comienzan por cero a menos que se especifique lo contrario \n",
    "\n",
    "# cambiar un elemento accesando a él mediante su índice\n",
    "mylist[1] = 'wind speed'\n",
    "\n",
    "# añadir un elemento\n",
    "mylist.append('cloud')\n",
    "print(mylist,'\\n')\n",
    "\n",
    "# las listas también se pueden sumar y multiplicar por enteros igual que las cadenas:\n",
    "print(mylist + ['rain'],'\\n')\n",
    "\n",
    "print(3*[5],'\\n')"
   ]
  },
  {
   "cell_type": "code",
   "execution_count": null,
   "metadata": {},
   "outputs": [],
   "source": [
    "# Además se pueden ordenar si tienen el mismo tipo de datos\n",
    "\n",
    "mynewlist = [6,4,3,5,1,2,7]\n",
    "mynewlist.sort()\n",
    "print(mynewlist,'\\n')\n",
    "\n",
    "mynewlist.sort(reverse=True)\n",
    "print(mynewlist,'\\n')\n",
    "# Nota que la función sort modifica la lista original, si no se quiere esto se pude usar la función \"copy\"\n",
    "\n",
    "mynewlist = [6,4,3,5,1,2,7]\n",
    "copyoflist = mynewlist.copy()\n",
    "\n",
    "copyoflist.sort()\n",
    "print(copyoflist,'\\n')\n",
    "print(mynewlist,'\\n')"
   ]
  },
  {
   "cell_type": "markdown",
   "metadata": {},
   "source": [
    "### Tuplas\n",
    "\n",
    "Quizás es la colección menos usada, al menos en este tutorial, pero muchas funciones tienen como resultados tuplas, y es útil conocerlas. Además es importante saber que no se pueden modificar, ya que el intento de hacerlo es una usual fuente de errores."
   ]
  },
  {
   "cell_type": "code",
   "execution_count": null,
   "metadata": {},
   "outputs": [],
   "source": [
    "mytuple = (1, 'wind', math.pi)  # las tuplas se definen con ( )\n",
    "print(mytuple, '\\n')\n",
    "\n",
    "# accesando a los elementos \n",
    "print(mytuple[0], '\\n') # nota que para accesar a los elementos se usa siempre []\n",
    "\n",
    "# intentemos cambiar un elemento como en las listas\n",
    "mytuple[3] = 'wind speed'"
   ]
  },
  {
   "cell_type": "markdown",
   "metadata": {},
   "source": [
    "__Nota:__ Algunas veces en Python los errores pueden ser muy largos y contener mucha información, por lo general lo más relevante está en la parte final, donde especifica el tipo de error y la línea donde ocurrió."
   ]
  },
  {
   "cell_type": "markdown",
   "metadata": {},
   "source": [
    "### Diccionarios\n",
    "\n",
    "Los diccionarios son pares indexados de llaves y valores (keys and values), son muy útiles cuando queremos establecer correspondencias entre dos tipos de elementos. Por ejemplo, definiremos un diccionario con la cantidad de cromosomas de diferentes especies."
   ]
  },
  {
   "cell_type": "code",
   "execution_count": null,
   "metadata": {},
   "outputs": [],
   "source": [
    "mydict = {'hormiga (hembra)': 2, 'humano':46,'liebre': 46,'papa':48, 'perro':78, 'helecho':1260} \n",
    "# nota el uso de {} y :\n",
    "\n",
    "print(mydict, '\\n')\n",
    "\n",
    "# accesando a un elemento\n",
    "print('cromosomas de la papa = ',mydict['papa'], '\\n') # notar el uso de []\n",
    "\n",
    "# añadiendo un elemento \n",
    "mydict['caballo'] = 64 # note the use of [], as it is accessing a (new) element\n",
    "print(mydict,'\\n')\n",
    "\n",
    "# Los diccionarios no se pueden sumar o multiplicar, intenta ejecutar la celda descomentando la línea que sigue\n",
    "# 2*mydict\n",
    "\n",
    "# Para ordenarlos hay que elegir entre ordenar por las llaves (keys) y los valores (values) pero no veremos eso por el momento"
   ]
  },
  {
   "cell_type": "markdown",
   "metadata": {},
   "source": [
    "## Estructuras de datos\n",
    "\n",
    "Aunque `Python` no fue originalmente diseñado para datos científicos, su base comunitaria y su carácter gratuito permiten el desarrollo de bibliotecas que manejan datos científicos y operaciones de forma simple y eficiente. parte del desarrollo y éxito de `Python` es la gran cantidad de estructuras de datos que puede manejar de forma eficiente:\n",
    "\n",
    "- grandes cantidades de datos\n",
    "\n",
    "- múltiples dimensiolnes \n",
    "\n",
    "- operaciones matemáticas y estadísticas sobre partes o todo el conjunto de datos\n",
    "\n",
    "- metadatos o atributos de datos\n",
    "\n",
    "Estas estructuras están definidas en librerías de orientación numérica/cientifíca (que necesitan ser importadas en el código): numpy, scipy, stats, pandas y xarray son ejemplos de ellas. Usaremos algunas de ellas en los próximos capítulos y detalles importantes serán descritos en los comentarios. \n",
    "\n",
    "Como breve introducción sólo describiremos las estructuras de datos que manejan, y lo ilustraremos en la figura de abajo.\n",
    "\n",
    "- __numpy arrays__: Arreglos numéricos multidimensionales (vectores y matrices fundamentalmente). \n",
    "\n",
    "- __pandas DataFrames__: Data Frames que recuerdan las tablas de excel, tablas o arreglos dos-dimensionales que aceptan diferentes tipos de datos, con filas y columnas etiquetadas.\n",
    "\n",
    "- __xarray DataArrays & Datasets__: Conjuntos de datos que contienen uno o múltiples arreglos de datos (uno por variable) que pueden ser indexados por etiquetas o números, referidos como coordenadas. Tienen el formato `netcdf`, pueden alojar metadatos y redes multidimensionales o series de tiempo.\n",
    "\n",
    "<img src=\"figures/data_structures.png\"/>\n"
   ]
  },
  {
   "cell_type": "markdown",
   "metadata": {},
   "source": [
    "***\n",
    "## Ciclos\n",
    "\n",
    "Normalmente las instrucciones de un código se ejecutan de manera secuencial, sin embargo a veces es necesario repetir un bloque de código, para lo cual la mayoría de los lenguajes tienen herramientas llamadas cliclos (loops). Estas permiten ejecutar una o varias líneas de código un número determinado de veces, o mientras se cumpla alguna condición (como se ilustra en la figura). Veremos los dos funtamentales de Python.\n",
    "\n",
    "<img src=\"figures/Loops.png\"/>"
   ]
  },
  {
   "cell_type": "markdown",
   "metadata": {},
   "source": [
    "### For \n",
    "\n",
    "Los ciclos __for__ ejecutan las líneas de código que se encuentren dentro del ciclo (lo cual se logra con la indentación, ver la nota abajo) el número de veces que se le instruya, recorriendo algún iterable de tipo índice, o una lista, o tupla.\n",
    "\n",
    "__Nota__`Python` es un lenguaje posicional. Esto significa que la indentación (posición del primer caracter de la línea) tiene un significado. Por ejemplo, en un ciclo for, en condicionales, funciones etc. es necesario mover la línea siguiente cuatro espacios a la derecha, en la mayoría de los editores esto se puede lograr directamente con la tecla Tab."
   ]
  },
  {
   "cell_type": "code",
   "execution_count": null,
   "metadata": {},
   "outputs": [],
   "source": [
    "somelist = ['a', 'b', 'c', 'd', 'e', 'f', 'g', 'h', 'i','j']\n",
    "for item in somelist: # Los ciclos for pueden tomar cualquier lista como argumento\n",
    "    print(item)  \n",
    "print('\\nEnd of loop\\n',somelist) # Nota la posición de esta línea, la falta de espacios al principio indican que ya estamos afuera del ciclo\n"
   ]
  },
  {
   "cell_type": "code",
   "execution_count": null,
   "metadata": {},
   "outputs": [],
   "source": [
    "# para iterar sobre índices, pueden ser por ejemplo números del 1 al 10, utilizamos la función range \n",
    "for index in range(0,10,1):  # esta función hace una lista numérica comenzando por defecto en cero, \n",
    "    # Ejercicio: intenta cambiar la instrucción de arriba a range(10), además con la sintaxis actual intenta cambiar el comienzo a \n",
    "    # 2 y el paso (el tercer argumento de la función) a 2\n",
    "    print(index, somelist[index])\n",
    "\n",
    "print('\\n')\n",
    "\n",
    "# una forma de acceder a la vez a los índices y valores de una lista en los ciclos es la función enumerate \n",
    "for index, value in enumerate(somelist): \n",
    "    print(index, value)"
   ]
  },
  {
   "cell_type": "markdown",
   "metadata": {},
   "source": [
    "### While\n",
    "\n",
    "Los ciclos __while__ ejecutan las líneas de código que se encuentren dentro del ciclo, __mientras__ una condición sea cierta. Ilustraremos esto con los mismos ejemplos anteriores."
   ]
  },
  {
   "cell_type": "code",
   "execution_count": null,
   "metadata": {},
   "outputs": [],
   "source": []
  },
  {
   "cell_type": "code",
   "execution_count": null,
   "metadata": {},
   "outputs": [],
   "source": [
    "somelist = ['a', 'b', 'c', 'd', 'e', 'f', 'g', 'h', 'i','j']\n",
    "\n",
    "# para iterar sobre índices, pueden ser por ejemplo números del 1 al 10, utilizamos la función range \n",
    "index = 0\n",
    "while index < 10: # observemos que ahora le estamos dando una condición que se tiene que cumplir para que el ciclo siga corriendo  \n",
    "    # para esto tuvimos que inicializar la variable, y para que el ciclo pare en algún momento y vaya cambiando de índice\n",
    "    # necesitaremos sumar 1 en cada iteración a la variable índice\n",
    "    # esta instrucción es una atajo para index = index + 1 \n",
    "    print(index, somelist[index])\n",
    "    index += 1\n",
    "\n",
    "print('\\n')\n"
   ]
  },
  {
   "cell_type": "markdown",
   "metadata": {},
   "source": [
    "Para casos como este el ciclo __for__ es más útil y más simple de usar, sin embargo __while__ puede ser muy útil en algunos casos, más adelante en este tutorial veremos algunos. "
   ]
  },
  {
   "cell_type": "markdown",
   "metadata": {},
   "source": [
    "## Condicionales \n",
    "if statements\n",
    "- Un `if` consiste en una expresión booleana seguida de un bloque de código que se ejecutará si la condición es cierta \n",
    "\n",
    "- Un `if` puede ser seguido de un `else` opcional, que ejecuta el bloque de código que lo sigue si la condición es falsa.\n",
    "\n",
    "- Else if: para condiciones extras (tantas como se quieran añadir) existe el condicional `elif`, el cual sólo se entiende si antes viene `if` \n",
    "\n",
    "- Anidación: Se pueden utilizar `if` o `elif` dentro de otros `if` o `elif` \n",
    "\n",
    "En la figura de abajo se ilustra la funcionalidad básica de las condicionales.\n",
    "\n",
    "Las condicionales en `Python` son similares a a otros lenguajes, en cuanto a la sintaxis hay que prestar atención a:\n",
    "- los `:` después de la condición \n",
    "- para múltiples condiciones en la misma línea es necesario encerrar cada una entre paréntesis `( )`\n",
    "\n",
    "__Inténtelo usted__ Ejecuta la siguiente celda. Luego cambia el valor asignado a _lat_ para obtener diferentes resultados e intenta de nuevo.\n",
    "\n",
    "<img src=\"figures/Conditionals.png\"/>"
   ]
  },
  {
   "cell_type": "code",
   "execution_count": null,
   "metadata": {},
   "outputs": [],
   "source": [
    "lat = 12\n",
    "if (lat <= -23.5) or (lat >= 23.5):\n",
    "    print('extra-tropical')\n",
    "elif lat == 0:\n",
    "    print('equator')\n",
    "else:\n",
    "    print('tropical')"
   ]
  },
  {
   "cell_type": "markdown",
   "metadata": {},
   "source": [
    "Una buena funcionalidad de `Python` son las __comprehensive lists__. Esta es una línea de código que usualmente combina un __ciclo for__ con una __expresión condicional__. Son muy útiles para simplificar el código, sin embargo para un usuario sin experiencia puede ser desafiante construirlas e interpretarlas. Las presentaremos brevemente por su utilidad y porque aparecen en muchas ocasiones, para mayor información al respecto ver en los recursos.\n",
    "\n",
    "En la siguiente celda están dos formas del mismo código, la usual y por comprehensión. "
   ]
  },
  {
   "cell_type": "code",
   "execution_count": null,
   "metadata": {},
   "outputs": [],
   "source": [
    "# forma explícita usando un ciclo for y una condicional\n",
    "for lat in range(-90,90,10):\n",
    "    if (lat <= -23.5) or (lat >= 23.5):\n",
    "        print('extra-tropical')\n",
    "    else:\n",
    "        print('tropical')\n",
    "        \n",
    "# comprehensive list\n",
    "result=['tropical' if np.abs(lat)<=23.5 else ('extra-tropical') for lat in range(-90,90,10)]\n",
    "\n",
    "result # note que si la última línea es sólo el nombre de una variable se imprime sin necesidad de print"
   ]
  },
  {
   "cell_type": "markdown",
   "metadata": {},
   "source": [
    "## Funciones\n",
    "Las funciones son fragmentos de código que son necesitados varias veces en un programa, y por lo tanto es una buena opción aislarlos y llamarlos cada vez que se necesiten. Hacen el código más limpio y menos propenso a errores, y cuando estos suceden son más fáciles de ubicar. En la siguiente celda veremos la definición de una función y su uso. En este tutorial veremos muchos ejemplos de funciones."
   ]
  },
  {
   "cell_type": "code",
   "execution_count": null,
   "metadata": {},
   "outputs": [],
   "source": [
    "def my_func(arg1): # note los :\n",
    "    cel = (arg1 - 32) * 5/9\n",
    "    print (arg1,'Farenheit = ', np.round(cel,1) , ' Celsius')\n",
    "    \n",
    "for far in range(0,101,10): # note que el for va de 0 a 100, no 101. El límite superior no se incluye en range.\n",
    "    my_func(far)"
   ]
  },
  {
   "cell_type": "markdown",
   "metadata": {},
   "source": [
    "***\n",
    "## Objetos, atributos y métodos\n",
    "\n",
    "`Python` es un lenguaje orientado a objetos. Est significa que casi todo en él son objetos o instancias de una clase. Es decir, las variables son objetos, y por lo tanto tienen atributos y métodos intrínsicos a la clase a la que pertenecen.\n",
    "\n",
    "- A los __atributos o propiedades__ de un objeto (variable) mediante la sintaxis __.attribute__ después del nombre del objeto.\n",
    "\n",
    "- Los __métodos__ son funciones y se puede acceder a ellos con __.method(arguments)__ después del nombre del objeto.\n",
    "\n",
    "__Inténtelo usted:__ Enla siguiente celda se ilustra el uso de un método y un atributo en un tipo de datos ya muy usado, las listas. "
   ]
  },
  {
   "cell_type": "code",
   "execution_count": null,
   "metadata": {},
   "outputs": [],
   "source": [
    "# from datetime import date # import the date function from the datetime package\n",
    "\n",
    "# today = date.today() # create an instance (object or variable) of the class date\n",
    "# print(today, '\\n')\n",
    "\n",
    "# ## date object attributes are access with a . but not ()\n",
    "# print('year = ',today.year, '\\nmonth = ', today.month, '\\nday = ', today.day, '\\n') \n",
    "\n",
    "# ## date object methods are accessed with a . and (), even without arguments. \n",
    "# print(today.ctime()) # access the method date in string format\n",
    "\n",
    "from random import randint # en este caso importamos una función de la librería y de esta forma puede usarse sin nombrar \n",
    "                           # la librería antes, esta librería genera números aleatorios \n",
    "\n",
    "mylist = [randint(1,10) for _ in range(10)] # Crea una lista por comprhensión, que en cada entrada tiene enteros \n",
    "                                            # entre 1 y 10\n",
    "print(mylist,'\\n')\n",
    "\n",
    "mylist.append(25)  # Pega en la última posición el objeto especificado (admite todo lo que admite una lista como elemento)\n",
    "print(mylist,'\\n')\n",
    "\n",
    "mylist.reverse()   # Invierte el orden de la lista\n",
    "print(mylist,'\\n')\n",
    "\n",
    "i = -1\n",
    "pop_element = mylist.pop(i) # Da como resultado el elemento en el índice i, en este caso -1, que representa \n",
    "                            # el último elemento el cual también es el que tiene este atributo por defecto \n",
    "print(pop_element,'\\n')\n",
    "\n",
    "x = 3\n",
    "if x in mylist: \n",
    "    mylist.remove(x)   # Elimina la primera aparición de x en la lista\n",
    "print(mylist,'\\n')\n",
    "\n",
    "# Si se quiere insertar un elemento en la posición i, en lugar de al final lo cual hace append, podemos usar la función insert\n",
    "i = 4; x = 50; # Observa que se pueden definir varias variables separandolas con ;\n",
    "mylist.insert(i, x) \n",
    "print(mylist,'\\n')"
   ]
  },
  {
   "cell_type": "markdown",
   "metadata": {},
   "source": [
    "__Inténtelo usted__: Intenta cambiar los parámetros y números usados en la celda anterior y observa los resultados."
   ]
  },
  {
   "cell_type": "markdown",
   "metadata": {},
   "source": [
    "No listaremos aquí todos los atributos y métodos de las listas, para conocerlos podemos usar la siguiente instrucción:"
   ]
  },
  {
   "cell_type": "code",
   "execution_count": null,
   "metadata": {},
   "outputs": [],
   "source": [
    "print(dir(mylist))"
   ]
  },
  {
   "cell_type": "markdown",
   "metadata": {},
   "source": [
    "***\n",
    "## Recursos\n",
    "\n",
    "### Tutoriales de Python\n",
    "\n",
    "- [The Official Python Site](https://docs.python.org/3/tutorial/)\n",
    "\n",
    "- [w3schools](https://www.w3schools.com/python/)\n",
    "\n",
    "__Python para científicos:__\n",
    "\n",
    "[tutorial](https://scipy-lectures.org/intro/)\n",
    "\n",
    "\n",
    "### Más aún:\n",
    "\n",
    "- Tipos de datos y colecciones: [https://www.geeksforgeeks.org/python-data-types/](https://www.geeksforgeeks.org/python-data-types/)\n",
    "\n",
    "- Funciones - w3schools.com es una buena referencia con ejercicios interactivos: [https://www.w3schools.com/python/python_functions.asp](https://www.w3schools.com/python/python_functions.asp)\n",
    "\n",
    "__Librería random__ https://www.tutorialspoint.com/generating-random-number-list-in-python\n",
    "\n",
    "__Comprehensive lists__\n",
    "\n",
    "- Por qué y cómo usarlas: [https://realpython.com/list-comprehension-python/](https://realpython.com/list-comprehension-python)\n",
    "- Un tutorial muy fácil de seguir: [https://www.w3schools.com/python/python_lists_comprehension.asp](https://www.w3schools.com/python/python_lists_comprehension.asp)\n",
    "\n",
    "Funciones de tiempo - Una gran ventaja de Python es el manejo de variables temporales. Esta es una buena página para aprender de estas funciones: [https://www.guru99.com/date-time-and-datetime-classes-in-python.html](https://www.guru99.com/date-time-and-datetime-classes-in-python.html)\n",
    "\n",
    "\n",
    "__pandas__\n",
    "\n",
    "- [The official site](https://pandas.pydata.org/)\n",
    "\n",
    "- [tutorial](https://bitbucket.org/hrojas/learn-pandas/src/master/)\n",
    "\n",
    "- [Cheat Sheet](https://pandas.pydata.org/Pandas_Cheat_Sheet.pdf)\n"
   ]
  },
  {
   "cell_type": "code",
   "execution_count": null,
   "metadata": {},
   "outputs": [],
   "source": []
  }
 ],
 "metadata": {
  "kernelspec": {
   "display_name": "Python 3",
   "language": "python",
   "name": "python3"
  },
  "language_info": {
   "codemirror_mode": {
    "name": "ipython",
    "version": 3
   },
   "file_extension": ".py",
   "mimetype": "text/x-python",
   "name": "python",
   "nbconvert_exporter": "python",
   "pygments_lexer": "ipython3",
   "version": "3.8.5"
  }
 },
 "nbformat": 4,
 "nbformat_minor": 4
}
