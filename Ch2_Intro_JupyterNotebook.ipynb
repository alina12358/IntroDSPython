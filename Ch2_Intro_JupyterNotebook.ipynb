{
 "cells": [
  {
   "cell_type": "markdown",
   "metadata": {},
   "source": [
    "# Capítulo 2 - Introducción a Jupyter Notebook\n",
    "\n",
    "En este tutorial usaremos `Jupyter Notebook` para programar en `Python`, por esta razón daremos una rápida introducción a esta interfaz. Cubriremos sólo las funcionalidades básicas, si quiere aprender más al respecto, hay enlaces útiles para ello al final de esta página.\n",
    "***\n",
    "\n",
    "## ¿Qué es Jupyter Notebook?\n",
    "\n",
    "<img src='./figures/jupyter_logo.png' width=200>\n",
    "\n",
    "`Jupyter` es un proyecto creado para \"desarrollar software de código abierto, estándares abiertos y servicios para computación interactiva en docenas de lenguajes de programación\". Creado a partir de IPython en 2014 por Fernando Pérez, el proyecto `Jupyter` soporta entornos de ejecución en varias docenas de lenguajes de programación. El nombre del proyecto `Jupyter` es una referencia a los tres lenguajes de programación principales soportados por `Jupyter`, que son `Julia`, `Python` y `R`, y también un homenaje a los cuadernos de Galileo que registran el descubrimiento de los satélites de Júpiter. El proyecto `Jupyter` ha desarrollado y respaldado los productos de computación interactiva `Jupyter Notebook`, JupyterHub y JupyterLab, la versión de próxima generación de `Jupyter Notebook`.\n",
    "\n",
    "`Jupyter Notebook`  es un entorno interactivo basado en la web. Un documento de `Jupyter Notebook` es un documento [JSON](https://es.wikipedia.org/wiki/JSON), que sigue un esquema versionado y que contiene una lista ordenada de celdas de entrada/salida que pueden contener código, texto (usando Markdown), ecuaciones, gráficos etc., generalmente terminado con la extensión \".ipynb\".\n",
    "\n",
    "Un `Jupyter Notebook` se puede convertir a varios formatos de salida estándar abierto (HTML, diapositiva de presentación, `LaTeX`, `PDF`, `ReStructuredText` , `Markdown`, `Python`) a través de \"descargar como\" en la interfaz web, a través de la biblioteca nbconvert o el comando \"jupyter nbconvert\" en un shell.\n",
    "\n",
    "`Jupyter Notebook` puede conectarse a muchos núcleos para permitir la programación en muchos idiomas. Por defecto, `Jupyter Notebook` se conecta con el núcleo IPython. A partir de la versión 2.3.8 (octubre del 2014), hay, actualmente, 49 núcleos compatibles con `Jupyter` para muchos lenguajes de programación, incluidos `Python`, `R`, `Julia` y `Haskell`.\n",
    "\n",
    "<img src='./figures/JupyterNotebook_example.png'>\n",
    "\n",
    "***\n",
    "\n",
    "## Elementos de Jupyter Notebook \n",
    "\n",
    "__Dashboard:__ Es la página principal en la que se ejecuta la instrucción para abrir `Jupyter Notebook`, donde se listan los archivos y directorios. Haciendo click en un archivo se abrirá en otra pestaña del navegador. \n",
    "\n",
    "<img src=\"./figures/Jupyter_Notebook_Dashboard.png\" width=700>\n",
    "\n",
    "__Menú superior (Top Menu)__: Contiene los comnados que se necesitan para trabajar en `Jupyter Notebook`. Abajo veremos algunos relevantes.\n",
    "\n",
    "__Menú de íconos (Icon Menu):__ Está debajo del menú superior y provee atajos a funciones muy utilizadas.\n",
    "\n",
    "<img src=\"./figures/Jupyter_Notebook_Menus.png\" width=800 align=\"center\">\n",
    "\n",
    "***\n",
    "\n",
    "## Elementos básicos\n",
    "\n",
    "### Celdas\n",
    "Los `scripts` están divididos en celdas. Estas contienen las líneas de código que son ejecutadas como una unidad, obteniéndose la salida con los resultados del código contenido en esa celda inmediatamente. Las celdas no son independientes, si se declaran o modifican variables o funciones en una celda, las siguientes tendrán acceso a esta información.\n",
    "\n",
    "Para ejecutar una celda hay varias opciones:\n",
    "- Presionar __Shift-Return__ (ejecuta la celda y mueve el cursor a la siguiente) o __Command-Return__ (ejecuta la celda y deja el cursor en la misma) \n",
    "- Click en el ícono Run __[>|]__ en el menú de íconos\n",
    "- En el menú superior hacer click en Top menu -> Cells -> Run Cells\n",
    "\n",
    "\n",
    "### Tipos de celdas: Código y Markdown\n",
    "Las celdas __Markdown__ contienen texto con formato, como la celda en la que estamos leyendo, mientras que las celdas de __Código__ contienen código que es ejecutado y usualmente producen un resultado. El text en las celdas de código tienen diferentes colores dependiendo de si son funciones, variables etc.\n",
    "\n",
    "Para cambiar el tipo de celda:\n",
    "- En el __menú de íconos__: hay un  menú desplegable qe muestra el tipo de celda y permite cambiarlo\n",
    "- Presionar __Esc__ y __m__ (para cambiar a Markdown) o __y__ (para cambiar a código)\n",
    "\n",
    "Presionar __Esc__ da acceso a algunos atajos de teclado (se pueden ver todos en el Top Menu -> Help -> Keyboard Shortcuts).\n",
    "\n",
    "### Copiar-pegar, añadir y borrar celdas\n",
    "\n",
    "Cuando se usa el comando __Shift-Return__ en la última celda disponible, una nueva es añadida automáticamente debajo, pero algunas veces es útil añadir una celda entre otras ya existentes, borrar una o hacer una copia. Para eso hay varias opciones:\n",
    "\n",
    "- Clic en el __Menú de íconos_: __+__ para añadir una celda, __tijeras__ para cortar, __ícono de copiar__ para copiar, y __portapapeles__ para pegar\n",
    "- Atajos de teclado: presionar __Esc__ y luego: __a__ or __b__ para insertar una celda (arriba o abajo), __d d__ para borrar una celda, __c__ para copiar, __x__ para cortar, y __p__ para pegar una celda debajo de la actual. \n",
    "\n",
    "***\n",
    "__Ejercicio:__ Haga doble click para modificar la celda siguiente, y ejecútela con una de las opciones dadas anteriormente. Actualmente la celda está en código, intente copiarla abajo y cambiar la nueva celda a __Markdown__, ejecute la nueva celda para ver las diferencias. "
   ]
  },
  {
   "cell_type": "code",
   "execution_count": 3,
   "metadata": {},
   "outputs": [
    {
     "name": "stdout",
     "output_type": "stream",
     "text": [
      "11\n"
     ]
    }
   ],
   "source": [
    "## __Test  this:__\n",
    "### change the type of this cell between __Markdown__ and __Code__, and then run it to see the difference\n",
    "myvar = 5+6\n",
    "print(myvar)"
   ]
  },
  {
   "cell_type": "markdown",
   "metadata": {},
   "source": [
    "***\n",
    "## Salvar el trabajo\n",
    "Para salvar los archivos a su computadora local, y así ser capaz de modificarlos y usarlos en el futuro hay dos opciones:\n",
    "\n",
    "- En el __Menú de íconos__, hay un botón de __Descargar__\n",
    "- En  __Top Menu-> File -> Download as__ hará una copia local en el formato que se escoja.\n",
    "\n",
    "### El Kernel\n",
    "\n",
    "En ocasiones, hay necesidad de interrumpir o congelar la ejecución de un código. En este caso es una opción reiniciar el __kernel__ (Top menu -> Kernel -> Restart) y volver a ejecutar todas las celdas, ya que esta operación borra todas las variables y funciones en memoria.\n",
    "\n",
    "__Kernel__ es el proceso, individual para cada notebook, que está ejecutando el código e interactuando directamente con `Python`.\n",
    "***"
   ]
  },
  {
   "cell_type": "markdown",
   "metadata": {},
   "source": [
    "## Recursos\n",
    "[Jupyter Notebook Documentation](https://jupyter-notebook.readthedocs.io/en/stable/)\n",
    "\n",
    "[The Official Jupyter and Jupyter Notebook/Lab page](https://jupyter.org/)\n",
    "\n",
    "_Two useful tutorials:_\n",
    "\n",
    "[One, on text mode, from Real Phyton](https://realpython.com/jupyter-notebook-introduction/)\n",
    "\n",
    "[Another on video mode](https://www.youtube.com/watch?v=HW29067qVWk)\n",
    "\n",
    "A cheat sheet is always a good reference: [Cheat Sheet](https://datacamp-community-prod.s3.amazonaws.com/48093c40-5303-45f4-bbf9-0c96c0133c40)"
   ]
  },
  {
   "cell_type": "code",
   "execution_count": null,
   "metadata": {},
   "outputs": [],
   "source": []
  }
 ],
 "metadata": {
  "kernelspec": {
   "display_name": "Python 3",
   "language": "python",
   "name": "python3"
  },
  "language_info": {
   "codemirror_mode": {
    "name": "ipython",
    "version": 3
   },
   "file_extension": ".py",
   "mimetype": "text/x-python",
   "name": "python",
   "nbconvert_exporter": "python",
   "pygments_lexer": "ipython3",
   "version": "3.8.5"
  }
 },
 "nbformat": 4,
 "nbformat_minor": 4
}
